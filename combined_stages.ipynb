{
 "cells": [
  {
   "cell_type": "code",
   "execution_count": 24,
   "metadata": {},
   "outputs": [],
   "source": [
    "import pandas as pd\n",
    "import numpy as np"
   ]
  },
  {
   "cell_type": "code",
   "execution_count": 25,
   "metadata": {},
   "outputs": [],
   "source": [
    "LOW = 0.08\n",
    "HIGH = 0.85"
   ]
  },
  {
   "cell_type": "code",
   "execution_count": 26,
   "metadata": {},
   "outputs": [],
   "source": [
    "#load prediction file for both detection and classification\n",
    "det = pd.read_csv('../checkpoint/3003/tester.csv')\n",
    "cls = pd.read_csv('../checkpoint/1703/classifier/default.csv')"
   ]
  },
  {
   "cell_type": "code",
   "execution_count": 27,
   "metadata": {},
   "outputs": [
    {
     "name": "stdout",
     "output_type": "stream",
     "text": [
      "(3029, 2)\n"
     ]
    },
    {
     "data": {
      "text/html": [
       "<div>\n",
       "<style scoped>\n",
       "    .dataframe tbody tr th:only-of-type {\n",
       "        vertical-align: middle;\n",
       "    }\n",
       "\n",
       "    .dataframe tbody tr th {\n",
       "        vertical-align: top;\n",
       "    }\n",
       "\n",
       "    .dataframe thead th {\n",
       "        text-align: right;\n",
       "    }\n",
       "</style>\n",
       "<table border=\"1\" class=\"dataframe\">\n",
       "  <thead>\n",
       "    <tr style=\"text-align: right;\">\n",
       "      <th></th>\n",
       "      <th>image_id</th>\n",
       "      <th>PredictionString</th>\n",
       "    </tr>\n",
       "  </thead>\n",
       "  <tbody>\n",
       "    <tr>\n",
       "      <th>0</th>\n",
       "      <td>83caa8a85e03606cf57e49147d7ac569</td>\n",
       "      <td>3 0.86 809 1131 1809 1647 0 0.22 1065 741 1325...</td>\n",
       "    </tr>\n",
       "    <tr>\n",
       "      <th>1</th>\n",
       "      <td>7550347fa2bb96c2354a3716dfa3a69c</td>\n",
       "      <td>0 0.64 1239 737 1528 1055 3 0.42 791 1622 1898...</td>\n",
       "    </tr>\n",
       "    <tr>\n",
       "      <th>2</th>\n",
       "      <td>74b23792db329cff5843e36efb8aa65a</td>\n",
       "      <td>10 0.31 160 2508 262 2644 11 0.28 160 2507 261...</td>\n",
       "    </tr>\n",
       "    <tr>\n",
       "      <th>3</th>\n",
       "      <td>94568a546be103177cb582d3e91cd2d8</td>\n",
       "      <td>3 0.83 635 1628 1512 1936 0 0.37 914 1016 1216...</td>\n",
       "    </tr>\n",
       "    <tr>\n",
       "      <th>4</th>\n",
       "      <td>6da36354fc904b63bc03eb3884e0c35c</td>\n",
       "      <td>0 0.51 1082 543 1300 766 13 0.36 1447 720 1692...</td>\n",
       "    </tr>\n",
       "  </tbody>\n",
       "</table>\n",
       "</div>"
      ],
      "text/plain": [
       "                           image_id  \\\n",
       "0  83caa8a85e03606cf57e49147d7ac569   \n",
       "1  7550347fa2bb96c2354a3716dfa3a69c   \n",
       "2  74b23792db329cff5843e36efb8aa65a   \n",
       "3  94568a546be103177cb582d3e91cd2d8   \n",
       "4  6da36354fc904b63bc03eb3884e0c35c   \n",
       "\n",
       "                                    PredictionString  \n",
       "0  3 0.86 809 1131 1809 1647 0 0.22 1065 741 1325...  \n",
       "1  0 0.64 1239 737 1528 1055 3 0.42 791 1622 1898...  \n",
       "2  10 0.31 160 2508 262 2644 11 0.28 160 2507 261...  \n",
       "3  3 0.83 635 1628 1512 1936 0 0.37 914 1016 1216...  \n",
       "4  0 0.51 1082 543 1300 766 13 0.36 1447 720 1692...  "
      ]
     },
     "execution_count": 27,
     "metadata": {},
     "output_type": "execute_result"
    }
   ],
   "source": [
    "print(det.shape)\n",
    "det.head()"
   ]
  },
  {
   "cell_type": "code",
   "execution_count": 28,
   "metadata": {},
   "outputs": [
    {
     "name": "stdout",
     "output_type": "stream",
     "text": [
      "(3000, 2)\n"
     ]
    },
    {
     "data": {
      "text/html": [
       "<div>\n",
       "<style scoped>\n",
       "    .dataframe tbody tr th:only-of-type {\n",
       "        vertical-align: middle;\n",
       "    }\n",
       "\n",
       "    .dataframe tbody tr th {\n",
       "        vertical-align: top;\n",
       "    }\n",
       "\n",
       "    .dataframe thead th {\n",
       "        text-align: right;\n",
       "    }\n",
       "</style>\n",
       "<table border=\"1\" class=\"dataframe\">\n",
       "  <thead>\n",
       "    <tr style=\"text-align: right;\">\n",
       "      <th></th>\n",
       "      <th>image_id</th>\n",
       "      <th>target</th>\n",
       "    </tr>\n",
       "  </thead>\n",
       "  <tbody>\n",
       "    <tr>\n",
       "      <th>0</th>\n",
       "      <td>002a34c58c5b758217ed1f584ccbcfe9</td>\n",
       "      <td>0.013326</td>\n",
       "    </tr>\n",
       "    <tr>\n",
       "      <th>1</th>\n",
       "      <td>004f33259ee4aef671c2b95d54e4be68</td>\n",
       "      <td>0.037235</td>\n",
       "    </tr>\n",
       "    <tr>\n",
       "      <th>2</th>\n",
       "      <td>008bdde2af2462e86fd373a445d0f4cd</td>\n",
       "      <td>0.939700</td>\n",
       "    </tr>\n",
       "    <tr>\n",
       "      <th>3</th>\n",
       "      <td>009bc039326338823ca3aa84381f17f1</td>\n",
       "      <td>0.123799</td>\n",
       "    </tr>\n",
       "    <tr>\n",
       "      <th>4</th>\n",
       "      <td>00a2145de1886cb9eb88869c85d74080</td>\n",
       "      <td>0.654006</td>\n",
       "    </tr>\n",
       "  </tbody>\n",
       "</table>\n",
       "</div>"
      ],
      "text/plain": [
       "                           image_id    target\n",
       "0  002a34c58c5b758217ed1f584ccbcfe9  0.013326\n",
       "1  004f33259ee4aef671c2b95d54e4be68  0.037235\n",
       "2  008bdde2af2462e86fd373a445d0f4cd  0.939700\n",
       "3  009bc039326338823ca3aa84381f17f1  0.123799\n",
       "4  00a2145de1886cb9eb88869c85d74080  0.654006"
      ]
     },
     "execution_count": 28,
     "metadata": {},
     "output_type": "execute_result"
    }
   ],
   "source": [
    "print(cls.shape)\n",
    "cls.head()"
   ]
  },
  {
   "cell_type": "code",
   "execution_count": 29,
   "metadata": {},
   "outputs": [
    {
     "name": "stdout",
     "output_type": "stream",
     "text": [
      "(3029, 3)\n"
     ]
    },
    {
     "data": {
      "text/html": [
       "<div>\n",
       "<style scoped>\n",
       "    .dataframe tbody tr th:only-of-type {\n",
       "        vertical-align: middle;\n",
       "    }\n",
       "\n",
       "    .dataframe tbody tr th {\n",
       "        vertical-align: top;\n",
       "    }\n",
       "\n",
       "    .dataframe thead th {\n",
       "        text-align: right;\n",
       "    }\n",
       "</style>\n",
       "<table border=\"1\" class=\"dataframe\">\n",
       "  <thead>\n",
       "    <tr style=\"text-align: right;\">\n",
       "      <th></th>\n",
       "      <th>image_id</th>\n",
       "      <th>PredictionString</th>\n",
       "      <th>target</th>\n",
       "    </tr>\n",
       "  </thead>\n",
       "  <tbody>\n",
       "    <tr>\n",
       "      <th>0</th>\n",
       "      <td>83caa8a85e03606cf57e49147d7ac569</td>\n",
       "      <td>3 0.86 809 1131 1809 1647 0 0.22 1065 741 1325...</td>\n",
       "      <td>0.970583</td>\n",
       "    </tr>\n",
       "    <tr>\n",
       "      <th>1</th>\n",
       "      <td>7550347fa2bb96c2354a3716dfa3a69c</td>\n",
       "      <td>0 0.64 1239 737 1528 1055 3 0.42 791 1622 1898...</td>\n",
       "      <td>0.039873</td>\n",
       "    </tr>\n",
       "    <tr>\n",
       "      <th>2</th>\n",
       "      <td>74b23792db329cff5843e36efb8aa65a</td>\n",
       "      <td>10 0.31 160 2508 262 2644 11 0.28 160 2507 261...</td>\n",
       "      <td>0.010240</td>\n",
       "    </tr>\n",
       "    <tr>\n",
       "      <th>3</th>\n",
       "      <td>94568a546be103177cb582d3e91cd2d8</td>\n",
       "      <td>3 0.83 635 1628 1512 1936 0 0.37 914 1016 1216...</td>\n",
       "      <td>0.065679</td>\n",
       "    </tr>\n",
       "    <tr>\n",
       "      <th>4</th>\n",
       "      <td>6da36354fc904b63bc03eb3884e0c35c</td>\n",
       "      <td>0 0.51 1082 543 1300 766 13 0.36 1447 720 1692...</td>\n",
       "      <td>0.838772</td>\n",
       "    </tr>\n",
       "  </tbody>\n",
       "</table>\n",
       "</div>"
      ],
      "text/plain": [
       "                           image_id  \\\n",
       "0  83caa8a85e03606cf57e49147d7ac569   \n",
       "1  7550347fa2bb96c2354a3716dfa3a69c   \n",
       "2  74b23792db329cff5843e36efb8aa65a   \n",
       "3  94568a546be103177cb582d3e91cd2d8   \n",
       "4  6da36354fc904b63bc03eb3884e0c35c   \n",
       "\n",
       "                                    PredictionString    target  \n",
       "0  3 0.86 809 1131 1809 1647 0 0.22 1065 741 1325...  0.970583  \n",
       "1  0 0.64 1239 737 1528 1055 3 0.42 791 1622 1898...  0.039873  \n",
       "2  10 0.31 160 2508 262 2644 11 0.28 160 2507 261...  0.010240  \n",
       "3  3 0.83 635 1628 1512 1936 0 0.37 914 1016 1216...  0.065679  \n",
       "4  0 0.51 1082 543 1300 766 13 0.36 1447 720 1692...  0.838772  "
      ]
     },
     "execution_count": 29,
     "metadata": {},
     "output_type": "execute_result"
    }
   ],
   "source": [
    "final_pred = pd.merge(det, cls, on = 'image_id', how = 'left')\n",
    "print(final_pred.shape)\n",
    "final_pred.head()"
   ]
  },
  {
   "cell_type": "code",
   "execution_count": 30,
   "metadata": {},
   "outputs": [
    {
     "data": {
      "text/plain": [
       "14 1 0 0 1 1    30\n",
       "Name: PredictionString, dtype: int64"
      ]
     },
     "execution_count": 30,
     "metadata": {},
     "output_type": "execute_result"
    }
   ],
   "source": [
    "#Number of 'No Findings' before filtering\n",
    "final_pred['PredictionString'].value_counts().iloc[[0]]"
   ]
  },
  {
   "cell_type": "code",
   "execution_count": 31,
   "metadata": {},
   "outputs": [],
   "source": [
    "def filter_class(row, low_thr=LOW, high_thr=HIGH):\n",
    "    prob = row['target']\n",
    "    if prob<low_thr:\n",
    "        ## Less chance of having any disease\n",
    "        row['PredictionString'] = '14 1 0 0 1 1'\n",
    "    elif low_thr<=prob<high_thr:\n",
    "        ## More chance of having any diesease\n",
    "        row['PredictionString']+=f' 14 {prob} 0 0 1 1'\n",
    "    elif high_thr<=prob:\n",
    "        ## Good chance of having any disease so believe in object detection model\n",
    "        row['PredictionString'] = row['PredictionString']\n",
    "    else:\n",
    "        raise ValueError('Prediction must be from [0-1]')\n",
    "    return row"
   ]
  },
  {
   "cell_type": "code",
   "execution_count": 32,
   "metadata": {},
   "outputs": [
    {
     "data": {
      "text/html": [
       "<div>\n",
       "<style scoped>\n",
       "    .dataframe tbody tr th:only-of-type {\n",
       "        vertical-align: middle;\n",
       "    }\n",
       "\n",
       "    .dataframe tbody tr th {\n",
       "        vertical-align: top;\n",
       "    }\n",
       "\n",
       "    .dataframe thead th {\n",
       "        text-align: right;\n",
       "    }\n",
       "</style>\n",
       "<table border=\"1\" class=\"dataframe\">\n",
       "  <thead>\n",
       "    <tr style=\"text-align: right;\">\n",
       "      <th></th>\n",
       "      <th>image_id</th>\n",
       "      <th>PredictionString</th>\n",
       "      <th>target</th>\n",
       "    </tr>\n",
       "  </thead>\n",
       "  <tbody>\n",
       "    <tr>\n",
       "      <th>0</th>\n",
       "      <td>83caa8a85e03606cf57e49147d7ac569</td>\n",
       "      <td>3 0.86 809 1131 1809 1647 0 0.22 1065 741 1325...</td>\n",
       "      <td>0.970583</td>\n",
       "    </tr>\n",
       "    <tr>\n",
       "      <th>1</th>\n",
       "      <td>7550347fa2bb96c2354a3716dfa3a69c</td>\n",
       "      <td>14 1 0 0 1 1</td>\n",
       "      <td>0.039873</td>\n",
       "    </tr>\n",
       "    <tr>\n",
       "      <th>2</th>\n",
       "      <td>74b23792db329cff5843e36efb8aa65a</td>\n",
       "      <td>14 1 0 0 1 1</td>\n",
       "      <td>0.010240</td>\n",
       "    </tr>\n",
       "    <tr>\n",
       "      <th>3</th>\n",
       "      <td>94568a546be103177cb582d3e91cd2d8</td>\n",
       "      <td>14 1 0 0 1 1</td>\n",
       "      <td>0.065679</td>\n",
       "    </tr>\n",
       "    <tr>\n",
       "      <th>4</th>\n",
       "      <td>6da36354fc904b63bc03eb3884e0c35c</td>\n",
       "      <td>0 0.51 1082 543 1300 766 13 0.36 1447 720 1692...</td>\n",
       "      <td>0.838772</td>\n",
       "    </tr>\n",
       "  </tbody>\n",
       "</table>\n",
       "</div>"
      ],
      "text/plain": [
       "                           image_id  \\\n",
       "0  83caa8a85e03606cf57e49147d7ac569   \n",
       "1  7550347fa2bb96c2354a3716dfa3a69c   \n",
       "2  74b23792db329cff5843e36efb8aa65a   \n",
       "3  94568a546be103177cb582d3e91cd2d8   \n",
       "4  6da36354fc904b63bc03eb3884e0c35c   \n",
       "\n",
       "                                    PredictionString    target  \n",
       "0  3 0.86 809 1131 1809 1647 0 0.22 1065 741 1325...  0.970583  \n",
       "1                                       14 1 0 0 1 1  0.039873  \n",
       "2                                       14 1 0 0 1 1  0.010240  \n",
       "3                                       14 1 0 0 1 1  0.065679  \n",
       "4  0 0.51 1082 543 1300 766 13 0.36 1447 720 1692...  0.838772  "
      ]
     },
     "execution_count": 32,
     "metadata": {},
     "output_type": "execute_result"
    }
   ],
   "source": [
    "submission = final_pred.apply(filter_class, axis=1)\n",
    "submission.head()"
   ]
  },
  {
   "cell_type": "code",
   "execution_count": 33,
   "metadata": {},
   "outputs": [
    {
     "data": {
      "text/plain": [
       "14 1 0 0 1 1    1941\n",
       "Name: PredictionString, dtype: int64"
      ]
     },
     "execution_count": 33,
     "metadata": {},
     "output_type": "execute_result"
    }
   ],
   "source": [
    "#Number of 'No Findings' after filtering\n",
    "submission['PredictionString'].value_counts().iloc[[0]]"
   ]
  },
  {
   "cell_type": "code",
   "execution_count": 34,
   "metadata": {},
   "outputs": [],
   "source": [
    "submission[['image_id', 'PredictionString']].to_csv('../checkpoint/submission_ensemble.csv',index = False)"
   ]
  },
  {
   "cell_type": "code",
   "execution_count": null,
   "metadata": {},
   "outputs": [],
   "source": []
  }
 ],
 "metadata": {
  "kernelspec": {
   "display_name": "Python 3",
   "language": "python",
   "name": "python3"
  },
  "language_info": {
   "codemirror_mode": {
    "name": "ipython",
    "version": 3
   },
   "file_extension": ".py",
   "mimetype": "text/x-python",
   "name": "python",
   "nbconvert_exporter": "python",
   "pygments_lexer": "ipython3",
   "version": "3.6.8"
  }
 },
 "nbformat": 4,
 "nbformat_minor": 2
}
