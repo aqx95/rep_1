{
 "cells": [
  {
   "cell_type": "code",
   "execution_count": 12,
   "metadata": {},
   "outputs": [],
   "source": [
    "import pandas as pd\n",
    "import numpy as np"
   ]
  },
  {
   "cell_type": "code",
   "execution_count": 24,
   "metadata": {},
   "outputs": [],
   "source": [
    "LOW = 0.08\n",
    "HIGH = 0.85"
   ]
  },
  {
   "cell_type": "code",
   "execution_count": 25,
   "metadata": {},
   "outputs": [],
   "source": [
    "#load prediction file for both detection and classification\n",
    "det = pd.read_csv('../checkpoint/post_comp/vfnet/submission/fold1.csv')\n",
    "cls = pd.read_csv('../checkpoint/1703/classifier/default.csv')"
   ]
  },
  {
   "cell_type": "code",
   "execution_count": 26,
   "metadata": {},
   "outputs": [
    {
     "name": "stdout",
     "output_type": "stream",
     "text": [
      "(3000, 2)\n"
     ]
    },
    {
     "data": {
      "text/html": [
       "<div>\n",
       "<style scoped>\n",
       "    .dataframe tbody tr th:only-of-type {\n",
       "        vertical-align: middle;\n",
       "    }\n",
       "\n",
       "    .dataframe tbody tr th {\n",
       "        vertical-align: top;\n",
       "    }\n",
       "\n",
       "    .dataframe thead th {\n",
       "        text-align: right;\n",
       "    }\n",
       "</style>\n",
       "<table border=\"1\" class=\"dataframe\">\n",
       "  <thead>\n",
       "    <tr style=\"text-align: right;\">\n",
       "      <th></th>\n",
       "      <th>image_id</th>\n",
       "      <th>PredictionString</th>\n",
       "    </tr>\n",
       "  </thead>\n",
       "  <tbody>\n",
       "    <tr>\n",
       "      <th>0</th>\n",
       "      <td>002a34c58c5b758217ed1f584ccbcfe9</td>\n",
       "      <td>0 0.31 1144 640 1437 930 0 0.13 981 638 1436 1...</td>\n",
       "    </tr>\n",
       "    <tr>\n",
       "      <th>1</th>\n",
       "      <td>004f33259ee4aef671c2b95d54e4be68</td>\n",
       "      <td>0 0.81 1267 582 1532 889 0 0.15 1066 580 1537 ...</td>\n",
       "    </tr>\n",
       "    <tr>\n",
       "      <th>2</th>\n",
       "      <td>008bdde2af2462e86fd373a445d0f4cd</td>\n",
       "      <td>0 0.85 1427 819 1728 1188 0 0.33 1203 816 1728...</td>\n",
       "    </tr>\n",
       "    <tr>\n",
       "      <th>3</th>\n",
       "      <td>009bc039326338823ca3aa84381f17f1</td>\n",
       "      <td>0 0.60 992 461 1217 721 0 0.17 785 464 1222 85...</td>\n",
       "    </tr>\n",
       "    <tr>\n",
       "      <th>4</th>\n",
       "      <td>00a2145de1886cb9eb88869c85d74080</td>\n",
       "      <td>0 0.69 1116 710 1354 937 0 0.15 1181 708 1353 ...</td>\n",
       "    </tr>\n",
       "  </tbody>\n",
       "</table>\n",
       "</div>"
      ],
      "text/plain": [
       "                           image_id  \\\n",
       "0  002a34c58c5b758217ed1f584ccbcfe9   \n",
       "1  004f33259ee4aef671c2b95d54e4be68   \n",
       "2  008bdde2af2462e86fd373a445d0f4cd   \n",
       "3  009bc039326338823ca3aa84381f17f1   \n",
       "4  00a2145de1886cb9eb88869c85d74080   \n",
       "\n",
       "                                    PredictionString  \n",
       "0  0 0.31 1144 640 1437 930 0 0.13 981 638 1436 1...  \n",
       "1  0 0.81 1267 582 1532 889 0 0.15 1066 580 1537 ...  \n",
       "2  0 0.85 1427 819 1728 1188 0 0.33 1203 816 1728...  \n",
       "3  0 0.60 992 461 1217 721 0 0.17 785 464 1222 85...  \n",
       "4  0 0.69 1116 710 1354 937 0 0.15 1181 708 1353 ...  "
      ]
     },
     "execution_count": 26,
     "metadata": {},
     "output_type": "execute_result"
    }
   ],
   "source": [
    "print(det.shape)\n",
    "det.head()"
   ]
  },
  {
   "cell_type": "code",
   "execution_count": 27,
   "metadata": {},
   "outputs": [
    {
     "name": "stdout",
     "output_type": "stream",
     "text": [
      "(3000, 2)\n"
     ]
    },
    {
     "data": {
      "text/html": [
       "<div>\n",
       "<style scoped>\n",
       "    .dataframe tbody tr th:only-of-type {\n",
       "        vertical-align: middle;\n",
       "    }\n",
       "\n",
       "    .dataframe tbody tr th {\n",
       "        vertical-align: top;\n",
       "    }\n",
       "\n",
       "    .dataframe thead th {\n",
       "        text-align: right;\n",
       "    }\n",
       "</style>\n",
       "<table border=\"1\" class=\"dataframe\">\n",
       "  <thead>\n",
       "    <tr style=\"text-align: right;\">\n",
       "      <th></th>\n",
       "      <th>image_id</th>\n",
       "      <th>target</th>\n",
       "    </tr>\n",
       "  </thead>\n",
       "  <tbody>\n",
       "    <tr>\n",
       "      <th>0</th>\n",
       "      <td>002a34c58c5b758217ed1f584ccbcfe9</td>\n",
       "      <td>0.013326</td>\n",
       "    </tr>\n",
       "    <tr>\n",
       "      <th>1</th>\n",
       "      <td>004f33259ee4aef671c2b95d54e4be68</td>\n",
       "      <td>0.037235</td>\n",
       "    </tr>\n",
       "    <tr>\n",
       "      <th>2</th>\n",
       "      <td>008bdde2af2462e86fd373a445d0f4cd</td>\n",
       "      <td>0.939700</td>\n",
       "    </tr>\n",
       "    <tr>\n",
       "      <th>3</th>\n",
       "      <td>009bc039326338823ca3aa84381f17f1</td>\n",
       "      <td>0.123799</td>\n",
       "    </tr>\n",
       "    <tr>\n",
       "      <th>4</th>\n",
       "      <td>00a2145de1886cb9eb88869c85d74080</td>\n",
       "      <td>0.654006</td>\n",
       "    </tr>\n",
       "  </tbody>\n",
       "</table>\n",
       "</div>"
      ],
      "text/plain": [
       "                           image_id    target\n",
       "0  002a34c58c5b758217ed1f584ccbcfe9  0.013326\n",
       "1  004f33259ee4aef671c2b95d54e4be68  0.037235\n",
       "2  008bdde2af2462e86fd373a445d0f4cd  0.939700\n",
       "3  009bc039326338823ca3aa84381f17f1  0.123799\n",
       "4  00a2145de1886cb9eb88869c85d74080  0.654006"
      ]
     },
     "execution_count": 27,
     "metadata": {},
     "output_type": "execute_result"
    }
   ],
   "source": [
    "print(cls.shape)\n",
    "cls.head()"
   ]
  },
  {
   "cell_type": "code",
   "execution_count": 28,
   "metadata": {},
   "outputs": [
    {
     "name": "stdout",
     "output_type": "stream",
     "text": [
      "(3000, 3)\n"
     ]
    },
    {
     "data": {
      "text/html": [
       "<div>\n",
       "<style scoped>\n",
       "    .dataframe tbody tr th:only-of-type {\n",
       "        vertical-align: middle;\n",
       "    }\n",
       "\n",
       "    .dataframe tbody tr th {\n",
       "        vertical-align: top;\n",
       "    }\n",
       "\n",
       "    .dataframe thead th {\n",
       "        text-align: right;\n",
       "    }\n",
       "</style>\n",
       "<table border=\"1\" class=\"dataframe\">\n",
       "  <thead>\n",
       "    <tr style=\"text-align: right;\">\n",
       "      <th></th>\n",
       "      <th>image_id</th>\n",
       "      <th>PredictionString</th>\n",
       "      <th>target</th>\n",
       "    </tr>\n",
       "  </thead>\n",
       "  <tbody>\n",
       "    <tr>\n",
       "      <th>0</th>\n",
       "      <td>002a34c58c5b758217ed1f584ccbcfe9</td>\n",
       "      <td>0 0.31 1144 640 1437 930 0 0.13 981 638 1436 1...</td>\n",
       "      <td>0.013326</td>\n",
       "    </tr>\n",
       "    <tr>\n",
       "      <th>1</th>\n",
       "      <td>004f33259ee4aef671c2b95d54e4be68</td>\n",
       "      <td>0 0.81 1267 582 1532 889 0 0.15 1066 580 1537 ...</td>\n",
       "      <td>0.037235</td>\n",
       "    </tr>\n",
       "    <tr>\n",
       "      <th>2</th>\n",
       "      <td>008bdde2af2462e86fd373a445d0f4cd</td>\n",
       "      <td>0 0.85 1427 819 1728 1188 0 0.33 1203 816 1728...</td>\n",
       "      <td>0.939700</td>\n",
       "    </tr>\n",
       "    <tr>\n",
       "      <th>3</th>\n",
       "      <td>009bc039326338823ca3aa84381f17f1</td>\n",
       "      <td>0 0.60 992 461 1217 721 0 0.17 785 464 1222 85...</td>\n",
       "      <td>0.123799</td>\n",
       "    </tr>\n",
       "    <tr>\n",
       "      <th>4</th>\n",
       "      <td>00a2145de1886cb9eb88869c85d74080</td>\n",
       "      <td>0 0.69 1116 710 1354 937 0 0.15 1181 708 1353 ...</td>\n",
       "      <td>0.654006</td>\n",
       "    </tr>\n",
       "  </tbody>\n",
       "</table>\n",
       "</div>"
      ],
      "text/plain": [
       "                           image_id  \\\n",
       "0  002a34c58c5b758217ed1f584ccbcfe9   \n",
       "1  004f33259ee4aef671c2b95d54e4be68   \n",
       "2  008bdde2af2462e86fd373a445d0f4cd   \n",
       "3  009bc039326338823ca3aa84381f17f1   \n",
       "4  00a2145de1886cb9eb88869c85d74080   \n",
       "\n",
       "                                    PredictionString    target  \n",
       "0  0 0.31 1144 640 1437 930 0 0.13 981 638 1436 1...  0.013326  \n",
       "1  0 0.81 1267 582 1532 889 0 0.15 1066 580 1537 ...  0.037235  \n",
       "2  0 0.85 1427 819 1728 1188 0 0.33 1203 816 1728...  0.939700  \n",
       "3  0 0.60 992 461 1217 721 0 0.17 785 464 1222 85...  0.123799  \n",
       "4  0 0.69 1116 710 1354 937 0 0.15 1181 708 1353 ...  0.654006  "
      ]
     },
     "execution_count": 28,
     "metadata": {},
     "output_type": "execute_result"
    }
   ],
   "source": [
    "final_pred = pd.merge(det, cls, on = 'image_id', how = 'left')\n",
    "print(final_pred.shape)\n",
    "final_pred.head()"
   ]
  },
  {
   "cell_type": "code",
   "execution_count": 29,
   "metadata": {},
   "outputs": [
    {
     "data": {
      "text/plain": [
       "0 0.67 1620 945 1913 1252 0 0.29 1248 945 1916 1558 0 0.29 1494 940 1916 1348 0 0.25 1696 948 1914 1190 0 0.14 1546 944 1926 1544 0 0.13 1269 946 1912 1298 0 0.09 1261 931 1907 1953 0 0.09 1776 975 1912 1146 0 0.08 1661 937 1908 1117 0 0.08 1762 957 1917 1240 0 0.07 1247 920 1673 1886 0 0.06 1453 917 1929 1799 0 0.06 1481 912 1906 1204 2 0.07 1730 949 1910 1128 2 0.06 1656 945 1914 1189 2 0.06 1776 975 1912 1146 3 0.17 1192 1714 2239 2066 3 0.10 1619 945 1913 1247 5 0.10 2089 1333 2493 1921 5 0.08 1952 877 2519 1951 5 0.07 669 1205 1184 1873 5 0.06 827 1224 1027 1393 5 0.05 1813 519 2586 1988 5 0.05 2134 1089 2552 1919 7 0.10 563 1805 1228 2126 7 0.09 1693 505 1993 737 7 0.08 1690 500 2142 702 7 0.07 1238 1029 1507 1754 7 0.07 1713 1235 1928 1448 7 0.06 1680 521 1955 826 7 0.06 909 1762 1071 1842 7 0.05 544 1825 1316 2252 8 0.08 1984 1297 2052 1356 8 0.08 1713 1235 1928 1448 8 0.06 920 1764 1062 1840 8 0.06 1800 1168 1909 1262 8 0.06 747 1460 798 1520 9 0.21 560 1808 1256 2140 9 0.12 1232 977 1545 1938 9 0.11 1255 921 1635 2114 9 0.09 1229 936 1894 1860 9 0.09 555 1823 1384 2278 9 0.08 608 1816 1206 2033 9 0.08 719 1754 1212 1979 9 0.08 812 1749 1142 1897 9 0.08 909 1762 1071 1842 9 0.07 571 1754 1138 2070 9 0.07 1245 912 1506 1626 9 0.07 1710 1219 1928 1448 9 0.07 1694 500 2047 710 9 0.07 1234 1125 1477 1794 9 0.06 569 1812 973 2070 9 0.06 1777 1860 2623 2145 9 0.06 985 513 1407 714 9 0.06 1637 945 1914 1226 9 0.05 621 1752 1460 2125 9 0.05 863 1789 1210 1978 9 0.05 1681 514 1963 777 10 0.11 537 1998 616 2169 10 0.06 538 2051 610 2182 10 0.05 531 1925 618 2156 11 0.22 1696 499 2160 685 11 0.19 1694 502 1999 714 11 0.13 1780 501 2206 629 11 0.13 1918 501 2173 601 11 0.12 2008 506 2177 594 11 0.12 1702 513 2097 778 11 0.10 2039 511 2207 618 11 0.09 1690 522 1980 820 11 0.08 1699 482 2061 644 11 0.08 537 1998 616 2169 11 0.08 1758 464 2156 600 11 0.08 940 512 1396 708 11 0.08 909 1762 1071 1842 11 0.07 2064 517 2238 639 11 0.07 879 519 1101 655 11 0.07 943 514 1151 610 11 0.06 945 508 1324 650 11 0.06 1680 476 2240 736 11 0.06 1963 479 2166 584 11 0.06 1972 506 2233 646 12 0.08 1677 480 2251 768 12 0.07 833 491 1435 744 12 0.06 1679 481 2369 949 12 0.06 771 493 1440 880 12 0.06 1684 457 2581 1390 12 0.05 1694 463 2598 1998 13 0.11 909 1762 1071 1842 13 0.08 812 1749 1142 1897 13 0.08 785 1738 1081 1871 13 0.07 816 1212 1035 1389 13 0.07 870 1718 1090 1848 13 0.06 1783 1385 2054 1557 13 0.06 714 1742 1152 1934 13 0.06 779 1169 1053 1359 13 0.06 652 1757 1215 1991 13 0.06 1786 1278 2067 1560 13 0.05 888 1656 1207 1866 13 0.05 906 1726 1197 1891 13 0.05 823 1199 1171 1389     1\n",
       "Name: PredictionString, dtype: int64"
      ]
     },
     "execution_count": 29,
     "metadata": {},
     "output_type": "execute_result"
    }
   ],
   "source": [
    "#Number of 'No Findings' before filtering\n",
    "final_pred['PredictionString'].value_counts().iloc[[0]]"
   ]
  },
  {
   "cell_type": "code",
   "execution_count": 30,
   "metadata": {},
   "outputs": [],
   "source": [
    "def filter_class(row, low_thr=LOW, high_thr=HIGH):\n",
    "    prob = row['target']\n",
    "    if prob<low_thr:\n",
    "        ## Less chance of having any disease\n",
    "        row['PredictionString'] = '14 1 0 0 1 1'\n",
    "    elif low_thr<=prob<high_thr:\n",
    "        ## More chance of having any diesease\n",
    "        row['PredictionString']+=f' 14 {prob} 0 0 1 1'\n",
    "    elif high_thr<=prob:\n",
    "        ## Good chance of having any disease so believe in object detection model\n",
    "        row['PredictionString'] = row['PredictionString']\n",
    "    else:\n",
    "        raise ValueError('Prediction must be from [0-1]')\n",
    "    return row"
   ]
  },
  {
   "cell_type": "code",
   "execution_count": 31,
   "metadata": {},
   "outputs": [
    {
     "data": {
      "text/html": [
       "<div>\n",
       "<style scoped>\n",
       "    .dataframe tbody tr th:only-of-type {\n",
       "        vertical-align: middle;\n",
       "    }\n",
       "\n",
       "    .dataframe tbody tr th {\n",
       "        vertical-align: top;\n",
       "    }\n",
       "\n",
       "    .dataframe thead th {\n",
       "        text-align: right;\n",
       "    }\n",
       "</style>\n",
       "<table border=\"1\" class=\"dataframe\">\n",
       "  <thead>\n",
       "    <tr style=\"text-align: right;\">\n",
       "      <th></th>\n",
       "      <th>image_id</th>\n",
       "      <th>PredictionString</th>\n",
       "      <th>target</th>\n",
       "    </tr>\n",
       "  </thead>\n",
       "  <tbody>\n",
       "    <tr>\n",
       "      <th>0</th>\n",
       "      <td>002a34c58c5b758217ed1f584ccbcfe9</td>\n",
       "      <td>14 1 0 0 1 1</td>\n",
       "      <td>0.013326</td>\n",
       "    </tr>\n",
       "    <tr>\n",
       "      <th>1</th>\n",
       "      <td>004f33259ee4aef671c2b95d54e4be68</td>\n",
       "      <td>14 1 0 0 1 1</td>\n",
       "      <td>0.037235</td>\n",
       "    </tr>\n",
       "    <tr>\n",
       "      <th>2</th>\n",
       "      <td>008bdde2af2462e86fd373a445d0f4cd</td>\n",
       "      <td>0 0.85 1427 819 1728 1188 0 0.33 1203 816 1728...</td>\n",
       "      <td>0.939700</td>\n",
       "    </tr>\n",
       "    <tr>\n",
       "      <th>3</th>\n",
       "      <td>009bc039326338823ca3aa84381f17f1</td>\n",
       "      <td>0 0.60 992 461 1217 721 0 0.17 785 464 1222 85...</td>\n",
       "      <td>0.123799</td>\n",
       "    </tr>\n",
       "    <tr>\n",
       "      <th>4</th>\n",
       "      <td>00a2145de1886cb9eb88869c85d74080</td>\n",
       "      <td>0 0.69 1116 710 1354 937 0 0.15 1181 708 1353 ...</td>\n",
       "      <td>0.654006</td>\n",
       "    </tr>\n",
       "  </tbody>\n",
       "</table>\n",
       "</div>"
      ],
      "text/plain": [
       "                           image_id  \\\n",
       "0  002a34c58c5b758217ed1f584ccbcfe9   \n",
       "1  004f33259ee4aef671c2b95d54e4be68   \n",
       "2  008bdde2af2462e86fd373a445d0f4cd   \n",
       "3  009bc039326338823ca3aa84381f17f1   \n",
       "4  00a2145de1886cb9eb88869c85d74080   \n",
       "\n",
       "                                    PredictionString    target  \n",
       "0                                       14 1 0 0 1 1  0.013326  \n",
       "1                                       14 1 0 0 1 1  0.037235  \n",
       "2  0 0.85 1427 819 1728 1188 0 0.33 1203 816 1728...  0.939700  \n",
       "3  0 0.60 992 461 1217 721 0 0.17 785 464 1222 85...  0.123799  \n",
       "4  0 0.69 1116 710 1354 937 0 0.15 1181 708 1353 ...  0.654006  "
      ]
     },
     "execution_count": 31,
     "metadata": {},
     "output_type": "execute_result"
    }
   ],
   "source": [
    "submission = final_pred.apply(filter_class, axis=1)\n",
    "submission.head()"
   ]
  },
  {
   "cell_type": "code",
   "execution_count": 32,
   "metadata": {},
   "outputs": [
    {
     "data": {
      "text/plain": [
       "14 1 0 0 1 1    1912\n",
       "Name: PredictionString, dtype: int64"
      ]
     },
     "execution_count": 32,
     "metadata": {},
     "output_type": "execute_result"
    }
   ],
   "source": [
    "#Number of 'No Findings' after filtering\n",
    "submission['PredictionString'].value_counts().iloc[[0]]"
   ]
  },
  {
   "cell_type": "code",
   "execution_count": 33,
   "metadata": {},
   "outputs": [],
   "source": [
    "submission[['image_id', 'PredictionString']].to_csv('../checkpoint/post_comp/vfnet/submission/submission.csv',index = False)"
   ]
  },
  {
   "cell_type": "code",
   "execution_count": null,
   "metadata": {},
   "outputs": [],
   "source": []
  }
 ],
 "metadata": {
  "kernelspec": {
   "display_name": "Python 3",
   "language": "python",
   "name": "python3"
  },
  "language_info": {
   "codemirror_mode": {
    "name": "ipython",
    "version": 3
   },
   "file_extension": ".py",
   "mimetype": "text/x-python",
   "name": "python",
   "nbconvert_exporter": "python",
   "pygments_lexer": "ipython3",
   "version": "3.6.8"
  }
 },
 "nbformat": 4,
 "nbformat_minor": 2
}
