{
 "cells": [
  {
   "cell_type": "code",
   "execution_count": 1,
   "metadata": {},
   "outputs": [],
   "source": [
    "import pandas as pd\n",
    "import numpy as np"
   ]
  },
  {
   "cell_type": "code",
   "execution_count": 2,
   "metadata": {},
   "outputs": [],
   "source": [
    "LOW = 0.08\n",
    "HIGH = 0.85"
   ]
  },
  {
   "cell_type": "code",
   "execution_count": 3,
   "metadata": {},
   "outputs": [],
   "source": [
    "#load prediction file for both detection and classification\n",
    "det = pd.read_csv('../checkpoint/1703/vfnet/1703_vfnet_submission.csv')\n",
    "cls = pd.read_csv('../checkpoint/1903/classifier_effnetb4/classification_sub.csv')"
   ]
  },
  {
   "cell_type": "code",
   "execution_count": 4,
   "metadata": {},
   "outputs": [
    {
     "name": "stdout",
     "output_type": "stream",
     "text": [
      "(3000, 2)\n"
     ]
    },
    {
     "data": {
      "text/html": [
       "<div>\n",
       "<style scoped>\n",
       "    .dataframe tbody tr th:only-of-type {\n",
       "        vertical-align: middle;\n",
       "    }\n",
       "\n",
       "    .dataframe tbody tr th {\n",
       "        vertical-align: top;\n",
       "    }\n",
       "\n",
       "    .dataframe thead th {\n",
       "        text-align: right;\n",
       "    }\n",
       "</style>\n",
       "<table border=\"1\" class=\"dataframe\">\n",
       "  <thead>\n",
       "    <tr style=\"text-align: right;\">\n",
       "      <th></th>\n",
       "      <th>image_id</th>\n",
       "      <th>PredictionString</th>\n",
       "    </tr>\n",
       "  </thead>\n",
       "  <tbody>\n",
       "    <tr>\n",
       "      <th>0</th>\n",
       "      <td>002a34c58c5b758217ed1f584ccbcfe9</td>\n",
       "      <td>0 0.33 1139 631 1443 937 3 0.73 835 1212 1894 ...</td>\n",
       "    </tr>\n",
       "    <tr>\n",
       "      <th>1</th>\n",
       "      <td>004f33259ee4aef671c2b95d54e4be68</td>\n",
       "      <td>0 0.77 1266 583 1530 864 0 0.27 1060 582 1531 ...</td>\n",
       "    </tr>\n",
       "    <tr>\n",
       "      <th>2</th>\n",
       "      <td>008bdde2af2462e86fd373a445d0f4cd</td>\n",
       "      <td>0 0.85 1409 817 1740 1207 0 0.27 1198 818 1735...</td>\n",
       "    </tr>\n",
       "    <tr>\n",
       "      <th>3</th>\n",
       "      <td>009bc039326338823ca3aa84381f17f1</td>\n",
       "      <td>0 0.53 977 461 1220 762 3 0.78 661 1030 1566 1...</td>\n",
       "    </tr>\n",
       "    <tr>\n",
       "      <th>4</th>\n",
       "      <td>00a2145de1886cb9eb88869c85d74080</td>\n",
       "      <td>0 0.67 1123 709 1353 935 0 0.20 1167 708 1353 ...</td>\n",
       "    </tr>\n",
       "  </tbody>\n",
       "</table>\n",
       "</div>"
      ],
      "text/plain": [
       "                           image_id  \\\n",
       "0  002a34c58c5b758217ed1f584ccbcfe9   \n",
       "1  004f33259ee4aef671c2b95d54e4be68   \n",
       "2  008bdde2af2462e86fd373a445d0f4cd   \n",
       "3  009bc039326338823ca3aa84381f17f1   \n",
       "4  00a2145de1886cb9eb88869c85d74080   \n",
       "\n",
       "                                    PredictionString  \n",
       "0  0 0.33 1139 631 1443 937 3 0.73 835 1212 1894 ...  \n",
       "1  0 0.77 1266 583 1530 864 0 0.27 1060 582 1531 ...  \n",
       "2  0 0.85 1409 817 1740 1207 0 0.27 1198 818 1735...  \n",
       "3  0 0.53 977 461 1220 762 3 0.78 661 1030 1566 1...  \n",
       "4  0 0.67 1123 709 1353 935 0 0.20 1167 708 1353 ...  "
      ]
     },
     "execution_count": 4,
     "metadata": {},
     "output_type": "execute_result"
    }
   ],
   "source": [
    "print(det.shape)\n",
    "det.head()"
   ]
  },
  {
   "cell_type": "code",
   "execution_count": 5,
   "metadata": {},
   "outputs": [
    {
     "name": "stdout",
     "output_type": "stream",
     "text": [
      "(3000, 2)\n"
     ]
    },
    {
     "data": {
      "text/html": [
       "<div>\n",
       "<style scoped>\n",
       "    .dataframe tbody tr th:only-of-type {\n",
       "        vertical-align: middle;\n",
       "    }\n",
       "\n",
       "    .dataframe tbody tr th {\n",
       "        vertical-align: top;\n",
       "    }\n",
       "\n",
       "    .dataframe thead th {\n",
       "        text-align: right;\n",
       "    }\n",
       "</style>\n",
       "<table border=\"1\" class=\"dataframe\">\n",
       "  <thead>\n",
       "    <tr style=\"text-align: right;\">\n",
       "      <th></th>\n",
       "      <th>image_id</th>\n",
       "      <th>label</th>\n",
       "    </tr>\n",
       "  </thead>\n",
       "  <tbody>\n",
       "    <tr>\n",
       "      <th>0</th>\n",
       "      <td>83caa8a85e03606cf57e49147d7ac569</td>\n",
       "      <td>0.998150</td>\n",
       "    </tr>\n",
       "    <tr>\n",
       "      <th>1</th>\n",
       "      <td>7550347fa2bb96c2354a3716dfa3a69c</td>\n",
       "      <td>0.001623</td>\n",
       "    </tr>\n",
       "    <tr>\n",
       "      <th>2</th>\n",
       "      <td>74b23792db329cff5843e36efb8aa65a</td>\n",
       "      <td>0.000288</td>\n",
       "    </tr>\n",
       "    <tr>\n",
       "      <th>3</th>\n",
       "      <td>94568a546be103177cb582d3e91cd2d8</td>\n",
       "      <td>0.017525</td>\n",
       "    </tr>\n",
       "    <tr>\n",
       "      <th>4</th>\n",
       "      <td>6da36354fc904b63bc03eb3884e0c35c</td>\n",
       "      <td>0.949071</td>\n",
       "    </tr>\n",
       "  </tbody>\n",
       "</table>\n",
       "</div>"
      ],
      "text/plain": [
       "                           image_id     label\n",
       "0  83caa8a85e03606cf57e49147d7ac569  0.998150\n",
       "1  7550347fa2bb96c2354a3716dfa3a69c  0.001623\n",
       "2  74b23792db329cff5843e36efb8aa65a  0.000288\n",
       "3  94568a546be103177cb582d3e91cd2d8  0.017525\n",
       "4  6da36354fc904b63bc03eb3884e0c35c  0.949071"
      ]
     },
     "execution_count": 5,
     "metadata": {},
     "output_type": "execute_result"
    }
   ],
   "source": [
    "print(cls.shape)\n",
    "cls.head()"
   ]
  },
  {
   "cell_type": "code",
   "execution_count": 6,
   "metadata": {},
   "outputs": [
    {
     "name": "stdout",
     "output_type": "stream",
     "text": [
      "(3000, 3)\n"
     ]
    },
    {
     "data": {
      "text/html": [
       "<div>\n",
       "<style scoped>\n",
       "    .dataframe tbody tr th:only-of-type {\n",
       "        vertical-align: middle;\n",
       "    }\n",
       "\n",
       "    .dataframe tbody tr th {\n",
       "        vertical-align: top;\n",
       "    }\n",
       "\n",
       "    .dataframe thead th {\n",
       "        text-align: right;\n",
       "    }\n",
       "</style>\n",
       "<table border=\"1\" class=\"dataframe\">\n",
       "  <thead>\n",
       "    <tr style=\"text-align: right;\">\n",
       "      <th></th>\n",
       "      <th>image_id</th>\n",
       "      <th>PredictionString</th>\n",
       "      <th>label</th>\n",
       "    </tr>\n",
       "  </thead>\n",
       "  <tbody>\n",
       "    <tr>\n",
       "      <th>0</th>\n",
       "      <td>002a34c58c5b758217ed1f584ccbcfe9</td>\n",
       "      <td>0 0.33 1139 631 1443 937 3 0.73 835 1212 1894 ...</td>\n",
       "      <td>0.000545</td>\n",
       "    </tr>\n",
       "    <tr>\n",
       "      <th>1</th>\n",
       "      <td>004f33259ee4aef671c2b95d54e4be68</td>\n",
       "      <td>0 0.77 1266 583 1530 864 0 0.27 1060 582 1531 ...</td>\n",
       "      <td>0.002925</td>\n",
       "    </tr>\n",
       "    <tr>\n",
       "      <th>2</th>\n",
       "      <td>008bdde2af2462e86fd373a445d0f4cd</td>\n",
       "      <td>0 0.85 1409 817 1740 1207 0 0.27 1198 818 1735...</td>\n",
       "      <td>0.988283</td>\n",
       "    </tr>\n",
       "    <tr>\n",
       "      <th>3</th>\n",
       "      <td>009bc039326338823ca3aa84381f17f1</td>\n",
       "      <td>0 0.53 977 461 1220 762 3 0.78 661 1030 1566 1...</td>\n",
       "      <td>0.012048</td>\n",
       "    </tr>\n",
       "    <tr>\n",
       "      <th>4</th>\n",
       "      <td>00a2145de1886cb9eb88869c85d74080</td>\n",
       "      <td>0 0.67 1123 709 1353 935 0 0.20 1167 708 1353 ...</td>\n",
       "      <td>0.869103</td>\n",
       "    </tr>\n",
       "  </tbody>\n",
       "</table>\n",
       "</div>"
      ],
      "text/plain": [
       "                           image_id  \\\n",
       "0  002a34c58c5b758217ed1f584ccbcfe9   \n",
       "1  004f33259ee4aef671c2b95d54e4be68   \n",
       "2  008bdde2af2462e86fd373a445d0f4cd   \n",
       "3  009bc039326338823ca3aa84381f17f1   \n",
       "4  00a2145de1886cb9eb88869c85d74080   \n",
       "\n",
       "                                    PredictionString     label  \n",
       "0  0 0.33 1139 631 1443 937 3 0.73 835 1212 1894 ...  0.000545  \n",
       "1  0 0.77 1266 583 1530 864 0 0.27 1060 582 1531 ...  0.002925  \n",
       "2  0 0.85 1409 817 1740 1207 0 0.27 1198 818 1735...  0.988283  \n",
       "3  0 0.53 977 461 1220 762 3 0.78 661 1030 1566 1...  0.012048  \n",
       "4  0 0.67 1123 709 1353 935 0 0.20 1167 708 1353 ...  0.869103  "
      ]
     },
     "execution_count": 6,
     "metadata": {},
     "output_type": "execute_result"
    }
   ],
   "source": [
    "final_pred = pd.merge(det, cls, on = 'image_id', how = 'left')\n",
    "print(final_pred.shape)\n",
    "final_pred.head()"
   ]
  },
  {
   "cell_type": "code",
   "execution_count": 7,
   "metadata": {},
   "outputs": [
    {
     "data": {
      "text/plain": [
       "14 1 0 0 1 1    7\n",
       "Name: PredictionString, dtype: int64"
      ]
     },
     "execution_count": 7,
     "metadata": {},
     "output_type": "execute_result"
    }
   ],
   "source": [
    "#Number of 'No Findings' before filtering\n",
    "final_pred['PredictionString'].value_counts().iloc[[0]]"
   ]
  },
  {
   "cell_type": "code",
   "execution_count": 10,
   "metadata": {},
   "outputs": [],
   "source": [
    "def filter_class(row, low_thr=LOW, high_thr=HIGH):\n",
    "    prob = row['label']\n",
    "    if prob<low_thr:\n",
    "        ## Less chance of having any disease\n",
    "        row['PredictionString'] = '14 1 0 0 1 1'\n",
    "    elif low_thr<=prob<high_thr:\n",
    "        ## More change of having any diesease\n",
    "        row['PredictionString']+=f' 14 {prob} 0 0 1 1'\n",
    "    elif high_thr<=prob:\n",
    "        ## Good chance of having any disease so believe in object detection model\n",
    "        row['PredictionString'] = row['PredictionString']\n",
    "    else:\n",
    "        raise ValueError('Prediction must be from [0-1]')\n",
    "    return row"
   ]
  },
  {
   "cell_type": "code",
   "execution_count": 11,
   "metadata": {},
   "outputs": [
    {
     "data": {
      "text/html": [
       "<div>\n",
       "<style scoped>\n",
       "    .dataframe tbody tr th:only-of-type {\n",
       "        vertical-align: middle;\n",
       "    }\n",
       "\n",
       "    .dataframe tbody tr th {\n",
       "        vertical-align: top;\n",
       "    }\n",
       "\n",
       "    .dataframe thead th {\n",
       "        text-align: right;\n",
       "    }\n",
       "</style>\n",
       "<table border=\"1\" class=\"dataframe\">\n",
       "  <thead>\n",
       "    <tr style=\"text-align: right;\">\n",
       "      <th></th>\n",
       "      <th>image_id</th>\n",
       "      <th>PredictionString</th>\n",
       "      <th>label</th>\n",
       "    </tr>\n",
       "  </thead>\n",
       "  <tbody>\n",
       "    <tr>\n",
       "      <th>0</th>\n",
       "      <td>002a34c58c5b758217ed1f584ccbcfe9</td>\n",
       "      <td>14 1 0 0 1 1</td>\n",
       "      <td>0.000545</td>\n",
       "    </tr>\n",
       "    <tr>\n",
       "      <th>1</th>\n",
       "      <td>004f33259ee4aef671c2b95d54e4be68</td>\n",
       "      <td>14 1 0 0 1 1</td>\n",
       "      <td>0.002925</td>\n",
       "    </tr>\n",
       "    <tr>\n",
       "      <th>2</th>\n",
       "      <td>008bdde2af2462e86fd373a445d0f4cd</td>\n",
       "      <td>0 0.85 1409 817 1740 1207 0 0.27 1198 818 1735...</td>\n",
       "      <td>0.988283</td>\n",
       "    </tr>\n",
       "    <tr>\n",
       "      <th>3</th>\n",
       "      <td>009bc039326338823ca3aa84381f17f1</td>\n",
       "      <td>14 1 0 0 1 1</td>\n",
       "      <td>0.012048</td>\n",
       "    </tr>\n",
       "    <tr>\n",
       "      <th>4</th>\n",
       "      <td>00a2145de1886cb9eb88869c85d74080</td>\n",
       "      <td>0 0.67 1123 709 1353 935 0 0.20 1167 708 1353 ...</td>\n",
       "      <td>0.869103</td>\n",
       "    </tr>\n",
       "  </tbody>\n",
       "</table>\n",
       "</div>"
      ],
      "text/plain": [
       "                           image_id  \\\n",
       "0  002a34c58c5b758217ed1f584ccbcfe9   \n",
       "1  004f33259ee4aef671c2b95d54e4be68   \n",
       "2  008bdde2af2462e86fd373a445d0f4cd   \n",
       "3  009bc039326338823ca3aa84381f17f1   \n",
       "4  00a2145de1886cb9eb88869c85d74080   \n",
       "\n",
       "                                    PredictionString     label  \n",
       "0                                       14 1 0 0 1 1  0.000545  \n",
       "1                                       14 1 0 0 1 1  0.002925  \n",
       "2  0 0.85 1409 817 1740 1207 0 0.27 1198 818 1735...  0.988283  \n",
       "3                                       14 1 0 0 1 1  0.012048  \n",
       "4  0 0.67 1123 709 1353 935 0 0.20 1167 708 1353 ...  0.869103  "
      ]
     },
     "execution_count": 11,
     "metadata": {},
     "output_type": "execute_result"
    }
   ],
   "source": [
    "submission = final_pred.apply(filter_class, axis=1)\n",
    "submission.head()"
   ]
  },
  {
   "cell_type": "code",
   "execution_count": 12,
   "metadata": {},
   "outputs": [
    {
     "data": {
      "text/plain": [
       "14 1 0 0 1 1    2151\n",
       "Name: PredictionString, dtype: int64"
      ]
     },
     "execution_count": 12,
     "metadata": {},
     "output_type": "execute_result"
    }
   ],
   "source": [
    "#Number of 'No Findings' after filtering\n",
    "submission['PredictionString'].value_counts().iloc[[0]]"
   ]
  },
  {
   "cell_type": "code",
   "execution_count": 13,
   "metadata": {},
   "outputs": [],
   "source": [
    "submission[['image_id', 'PredictionString']].to_csv('../checkpoint/submission.csv',index = False)"
   ]
  },
  {
   "cell_type": "code",
   "execution_count": null,
   "metadata": {},
   "outputs": [],
   "source": []
  }
 ],
 "metadata": {
  "kernelspec": {
   "display_name": "Python 3",
   "language": "python",
   "name": "python3"
  },
  "language_info": {
   "codemirror_mode": {
    "name": "ipython",
    "version": 3
   },
   "file_extension": ".py",
   "mimetype": "text/x-python",
   "name": "python",
   "nbconvert_exporter": "python",
   "pygments_lexer": "ipython3",
   "version": "3.6.8"
  }
 },
 "nbformat": 4,
 "nbformat_minor": 2
}
